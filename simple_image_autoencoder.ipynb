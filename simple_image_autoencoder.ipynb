{
 "cells": [
  {
   "cell_type": "code",
   "execution_count": 157,
   "metadata": {},
   "outputs": [],
   "source": [
    "import numpy as np\n",
    "from tensorflow import keras\n",
    "from sklearn.model_selection import train_test_split\n",
    "import matplotlib.pyplot as plt"
   ]
  },
  {
   "cell_type": "code",
   "execution_count": 158,
   "metadata": {},
   "outputs": [],
   "source": [
    "fashion_minist = keras.datasets.fashion_mnist\n",
    "(train_images, train_labels), (test_images, test_labels) = fashion_minist.load_data()"
   ]
  },
  {
   "cell_type": "code",
   "execution_count": 159,
   "metadata": {},
   "outputs": [],
   "source": [
    "train_images = train_images / 255\n",
    "train_targets = train_images.copy()\n",
    "test_images = test_images / 255\n",
    "test_targets = test_images.copy()"
   ]
  },
  {
   "cell_type": "code",
   "execution_count": 160,
   "metadata": {},
   "outputs": [],
   "source": [
    "X_train, X_val, y_train, y_val = train_test_split(train_images, train_targets, test_size=0.2)"
   ]
  },
  {
   "cell_type": "code",
   "execution_count": 161,
   "metadata": {},
   "outputs": [],
   "source": [
    "class autoencoderForFashionMnist(keras.models.Model):\n",
    "    def __init__(self, imgShape, dimension):\n",
    "        super(autoencoderForFashionMnist, self).__init__()\n",
    "        self.encoder = keras.Sequential([\n",
    "            keras.layers.Flatten(input_shape=imgShape), \n",
    "            keras.layers.Dense(dimension)\n",
    "        ])\n",
    "\n",
    "        self.decoder = keras.Sequential([\n",
    "            keras.layers.InputLayer(input_shape=(dimension, )), \n",
    "            keras.layers.Dense(np.prod(imgShape)), \n",
    "            keras.layers.Reshape((imgShape))\n",
    "        ])\n",
    "        \n",
    "    def call(self, inputs):\n",
    "        encoding = self.encoder(inputs)\n",
    "        decoding = self.decoder(encoding)\n",
    "        return decoding"
   ]
  },
  {
   "cell_type": "code",
   "execution_count": 162,
   "metadata": {},
   "outputs": [],
   "source": [
    "model1 = autoencoderForFashionMnist([28, 28], 64)"
   ]
  },
  {
   "cell_type": "code",
   "execution_count": 163,
   "metadata": {},
   "outputs": [
    {
     "name": "stdout",
     "output_type": "stream",
     "text": [
      "Model: \"sequential_23\"\n",
      "_________________________________________________________________\n",
      " Layer (type)                Output Shape              Param #   \n",
      "=================================================================\n",
      " flatten_12 (Flatten)        (None, 784)               0         \n",
      "                                                                 \n",
      " dense_35 (Dense)            (None, 64)                50240     \n",
      "                                                                 \n",
      "=================================================================\n",
      "Total params: 50,240\n",
      "Trainable params: 50,240\n",
      "Non-trainable params: 0\n",
      "_________________________________________________________________\n"
     ]
    }
   ],
   "source": [
    "model1.encoder.summary()"
   ]
  },
  {
   "cell_type": "code",
   "execution_count": 164,
   "metadata": {},
   "outputs": [
    {
     "name": "stdout",
     "output_type": "stream",
     "text": [
      "Model: \"sequential_24\"\n",
      "_________________________________________________________________\n",
      " Layer (type)                Output Shape              Param #   \n",
      "=================================================================\n",
      " dense_36 (Dense)            (None, 784)               50960     \n",
      "                                                                 \n",
      " reshape_11 (Reshape)        (None, 28, 28)            0         \n",
      "                                                                 \n",
      "=================================================================\n",
      "Total params: 50,960\n",
      "Trainable params: 50,960\n",
      "Non-trainable params: 0\n",
      "_________________________________________________________________\n"
     ]
    }
   ],
   "source": [
    "model1.decoder.summary()"
   ]
  },
  {
   "cell_type": "code",
   "execution_count": 165,
   "metadata": {},
   "outputs": [],
   "source": [
    "model1.compile(optimizer='adam', loss='mse', metrics=keras.metrics.MeanSquaredError())"
   ]
  },
  {
   "cell_type": "code",
   "execution_count": 166,
   "metadata": {},
   "outputs": [
    {
     "name": "stdout",
     "output_type": "stream",
     "text": [
      "Epoch 1/10\n",
      "1500/1500 [==============================] - 2s 1ms/step - loss: 0.0198 - mean_squared_error: 0.0198 - val_loss: 0.0123 - val_mean_squared_error: 0.0123\n",
      "Epoch 2/10\n",
      "1500/1500 [==============================] - 2s 1ms/step - loss: 0.0115 - mean_squared_error: 0.0115 - val_loss: 0.0112 - val_mean_squared_error: 0.0112\n",
      "Epoch 3/10\n",
      "1500/1500 [==============================] - 2s 1ms/step - loss: 0.0110 - mean_squared_error: 0.0110 - val_loss: 0.0109 - val_mean_squared_error: 0.0109\n",
      "Epoch 4/10\n",
      "1500/1500 [==============================] - 2s 1ms/step - loss: 0.0109 - mean_squared_error: 0.0109 - val_loss: 0.0108 - val_mean_squared_error: 0.0108\n",
      "Epoch 5/10\n",
      "1500/1500 [==============================] - 2s 1ms/step - loss: 0.0108 - mean_squared_error: 0.0108 - val_loss: 0.0108 - val_mean_squared_error: 0.0108\n",
      "Epoch 6/10\n",
      "1500/1500 [==============================] - 2s 1ms/step - loss: 0.0108 - mean_squared_error: 0.0108 - val_loss: 0.0108 - val_mean_squared_error: 0.0108\n",
      "Epoch 7/10\n",
      "1500/1500 [==============================] - 2s 1ms/step - loss: 0.0107 - mean_squared_error: 0.0107 - val_loss: 0.0108 - val_mean_squared_error: 0.0108\n",
      "Epoch 8/10\n",
      "1500/1500 [==============================] - 2s 1ms/step - loss: 0.0107 - mean_squared_error: 0.0107 - val_loss: 0.0111 - val_mean_squared_error: 0.0111\n",
      "Epoch 9/10\n",
      "1500/1500 [==============================] - 2s 1ms/step - loss: 0.0107 - mean_squared_error: 0.0107 - val_loss: 0.0107 - val_mean_squared_error: 0.0107\n",
      "Epoch 10/10\n",
      "1500/1500 [==============================] - 2s 1ms/step - loss: 0.0107 - mean_squared_error: 0.0107 - val_loss: 0.0107 - val_mean_squared_error: 0.0107\n"
     ]
    }
   ],
   "source": [
    "history = model1.fit(X_train, y_train, epochs=10, validation_data=(X_val, y_val))"
   ]
  },
  {
   "cell_type": "code",
   "execution_count": 167,
   "metadata": {},
   "outputs": [
    {
     "name": "stdout",
     "output_type": "stream",
     "text": [
      "313/313 [==============================] - 0s 710us/step - loss: 0.0106 - mean_squared_error: 0.0106\n",
      "loss:  0.010610262863337994\n",
      "mse:  0.010610262863337994\n"
     ]
    }
   ],
   "source": [
    "loss, mse = model1.evaluate(test_images, test_targets)\n",
    "print(\"loss: \", loss)\n",
    "print(\"mse: \", mse)"
   ]
  },
  {
   "cell_type": "code",
   "execution_count": 168,
   "metadata": {},
   "outputs": [],
   "source": [
    "def visualizeOutput(num, model, test_images):\n",
    "    fig, axes = plt.subplots(1, 2)\n",
    "    axes[0].imshow(test_images[num], cmap=plt.cm.gray)\n",
    "    axes[0].set_title(\"Original\")\n",
    "\n",
    "    output = model.predict(np.expand_dims(test_images[num], axis=0))[0]\n",
    "    axes[1].imshow(output, cmap=plt.cm.gray)\n",
    "    axes[1].set_title(\"Output\")\n",
    "\n",
    "    plt.show()"
   ]
  },
  {
   "cell_type": "code",
   "execution_count": 169,
   "metadata": {},
   "outputs": [
    {
     "name": "stdout",
     "output_type": "stream",
     "text": [
      "WARNING:tensorflow:5 out of the last 8 calls to <function Model.make_predict_function.<locals>.predict_function at 0x000002418E0BA950> triggered tf.function retracing. Tracing is expensive and the excessive number of tracings could be due to (1) creating @tf.function repeatedly in a loop, (2) passing tensors with different shapes, (3) passing Python objects instead of tensors. For (1), please define your @tf.function outside of the loop. For (2), @tf.function has reduce_retracing=True option that can avoid unnecessary retracing. For (3), please refer to https://www.tensorflow.org/guide/function#controlling_retracing and https://www.tensorflow.org/api_docs/python/tf/function for  more details.\n",
      "1/1 [==============================] - 0s 42ms/step\n"
     ]
    },
    {
     "data": {
      "image/png": "[encoded data removed]",
      "text/plain": [
       "<Figure size 640x480 with 2 Axes>"
      ]
     },
     "metadata": {},
     "output_type": "display_data"
    }
   ],
   "source": [
    "visualizeOutput(124, model1, test_images)"
   ]
  },
  {
   "cell_type": "code",
   "execution_count": 183,
   "metadata": {},
   "outputs": [],
   "source": [
    "(train_images1, train_labels1), (test_images1, test_labels1) = keras.datasets.cifar10.load_data()"
   ]
  },
  {
   "cell_type": "code",
   "execution_count": 184,
   "metadata": {},
   "outputs": [],
   "source": [
    "train_images1 = train_images1 / 255\n",
    "train_targets1 = train_images1.copy()\n",
    "test_images1 = test_images1 / 255\n",
    "test_targets1 = test_images1.copy()"
   ]
  },
  {
   "cell_type": "code",
   "execution_count": 185,
   "metadata": {},
   "outputs": [
    {
     "data": {
      "text/plain": [
       "<matplotlib.image.AxesImage at 0x2418fdfc490>"
      ]
     },
     "execution_count": 185,
     "metadata": {},
     "output_type": "execute_result"
    },
    {
     "data": {
      "image/png": "[encoded data removed]",
      "text/plain": [
       "<Figure size 640x480 with 1 Axes>"
      ]
     },
     "metadata": {},
     "output_type": "display_data"
    }
   ],
   "source": [
    "plt.imshow(train_images1[255])"
   ]
  },
  {
   "cell_type": "code",
   "execution_count": 186,
   "metadata": {},
   "outputs": [
    {
     "data": {
      "text/plain": [
       "(50000, 32, 32, 3)"
      ]
     },
     "execution_count": 186,
     "metadata": {},
     "output_type": "execute_result"
    }
   ],
   "source": [
    "train_images1.shape"
   ]
  },
  {
   "cell_type": "code",
   "execution_count": 187,
   "metadata": {},
   "outputs": [],
   "source": [
    "X_train1, X_val1, y_train1, y_val1 = train_test_split(train_images1, train_targets1, test_size=0.2)"
   ]
  },
  {
   "cell_type": "code",
   "execution_count": 188,
   "metadata": {},
   "outputs": [
    {
     "data": {
      "text/plain": [
       "(40000, 32, 32, 3)"
      ]
     },
     "execution_count": 188,
     "metadata": {},
     "output_type": "execute_result"
    }
   ],
   "source": [
    "X_train1.shape"
   ]
  },
  {
   "cell_type": "code",
   "execution_count": 189,
   "metadata": {},
   "outputs": [],
   "source": [
    "class autoencoderForCiphar10(keras.models.Model):\n",
    "    def __init__(self, imgShape, dimension):\n",
    "        super(autoencoderForCiphar10, self).__init__()\n",
    "        self.encoder = keras.Sequential([\n",
    "            keras.layers.Flatten(input_shape=imgShape), \n",
    "            keras.layers.Dense(dimension * 4), \n",
    "            keras.layers.Dense(dimension * 2)\n",
    "        ])\n",
    "\n",
    "        self.decoder = keras.Sequential([\n",
    "            keras.layers.InputLayer(input_shape=(dimension * 2, )), \n",
    "            keras.layers.Dense(dimension * 4), \n",
    "            keras.layers.Dense(np.prod(imgShape)), \n",
    "            keras.layers.Reshape((imgShape))\n",
    "        ])\n",
    "        \n",
    "    def call(self, inputs):\n",
    "        encoding = self.encoder(inputs)\n",
    "        decoding = self.decoder(encoding)\n",
    "        return decoding"
   ]
  },
  {
   "cell_type": "code",
   "execution_count": 190,
   "metadata": {},
   "outputs": [],
   "source": [
    "model2 = autoencoderForCiphar10([32, 32, 3], 64)"
   ]
  },
  {
   "cell_type": "code",
   "execution_count": 191,
   "metadata": {},
   "outputs": [
    {
     "name": "stdout",
     "output_type": "stream",
     "text": [
      "Model: \"sequential_27\"\n",
      "_________________________________________________________________\n",
      " Layer (type)                Output Shape              Param #   \n",
      "=================================================================\n",
      " flatten_14 (Flatten)        (None, 3072)              0         \n",
      "                                                                 \n",
      " dense_41 (Dense)            (None, 256)               786688    \n",
      "                                                                 \n",
      " dense_42 (Dense)            (None, 128)               32896     \n",
      "                                                                 \n",
      "=================================================================\n",
      "Total params: 819,584\n",
      "Trainable params: 819,584\n",
      "Non-trainable params: 0\n",
      "_________________________________________________________________\n"
     ]
    }
   ],
   "source": [
    "model2.encoder.summary()"
   ]
  },
  {
   "cell_type": "code",
   "execution_count": 192,
   "metadata": {},
   "outputs": [
    {
     "name": "stdout",
     "output_type": "stream",
     "text": [
      "Model: \"sequential_28\"\n",
      "_________________________________________________________________\n",
      " Layer (type)                Output Shape              Param #   \n",
      "=================================================================\n",
      " dense_43 (Dense)            (None, 256)               33024     \n",
      "                                                                 \n",
      " dense_44 (Dense)            (None, 3072)              789504    \n",
      "                                                                 \n",
      " reshape_13 (Reshape)        (None, 32, 32, 3)         0         \n",
      "                                                                 \n",
      "=================================================================\n",
      "Total params: 822,528\n",
      "Trainable params: 822,528\n",
      "Non-trainable params: 0\n",
      "_________________________________________________________________\n"
     ]
    }
   ],
   "source": [
    "model2.decoder.summary()"
   ]
  },
  {
   "cell_type": "code",
   "execution_count": 193,
   "metadata": {},
   "outputs": [],
   "source": [
    "model2.compile(optimizer='adam', loss='mse', metrics=keras.metrics.MeanSquaredError())"
   ]
  },
  {
   "cell_type": "code",
   "execution_count": 194,
   "metadata": {},
   "outputs": [
    {
     "name": "stdout",
     "output_type": "stream",
     "text": [
      "Epoch 1/10\n",
      "1250/1250 [==============================] - 15s 11ms/step - loss: 0.0211 - mean_squared_error: 0.0211 - val_loss: 0.0099 - val_mean_squared_error: 0.0099\n",
      "Epoch 2/10\n",
      "1250/1250 [==============================] - 15s 12ms/step - loss: 0.0880 - mean_squared_error: 0.0880 - val_loss: 0.0105 - val_mean_squared_error: 0.0105\n",
      "Epoch 3/10\n",
      "1250/1250 [==============================] - 15s 12ms/step - loss: 0.0087 - mean_squared_error: 0.0087 - val_loss: 0.0078 - val_mean_squared_error: 0.0078\n",
      "Epoch 4/10\n",
      "1250/1250 [==============================] - 15s 12ms/step - loss: 0.0076 - mean_squared_error: 0.0076 - val_loss: 0.0073 - val_mean_squared_error: 0.0073\n",
      "Epoch 5/10\n",
      "1250/1250 [==============================] - 15s 12ms/step - loss: 0.0072 - mean_squared_error: 0.0072 - val_loss: 0.0068 - val_mean_squared_error: 0.0068\n",
      "Epoch 6/10\n",
      "1250/1250 [==============================] - 15s 12ms/step - loss: 0.0068 - mean_squared_error: 0.0068 - val_loss: 0.0066 - val_mean_squared_error: 0.0066\n",
      "Epoch 7/10\n",
      "1250/1250 [==============================] - 15s 12ms/step - loss: 0.0065 - mean_squared_error: 0.0065 - val_loss: 0.0062 - val_mean_squared_error: 0.0062\n",
      "Epoch 8/10\n",
      "1250/1250 [==============================] - 16s 13ms/step - loss: 0.2605 - mean_squared_error: 0.2605 - val_loss: 0.0164 - val_mean_squared_error: 0.0164\n",
      "Epoch 9/10\n",
      "1250/1250 [==============================] - 16s 13ms/step - loss: 0.0097 - mean_squared_error: 0.0097 - val_loss: 0.0076 - val_mean_squared_error: 0.0076\n",
      "Epoch 10/10\n",
      "1250/1250 [==============================] - 16s 13ms/step - loss: 0.0071 - mean_squared_error: 0.0071 - val_loss: 0.0067 - val_mean_squared_error: 0.0067\n"
     ]
    }
   ],
   "source": [
    "history = model2.fit(X_train1, y_train1, epochs=10, validation_data=(X_val1, y_val1))"
   ]
  },
  {
   "cell_type": "code",
   "execution_count": 195,
   "metadata": {},
   "outputs": [
    {
     "name": "stdout",
     "output_type": "stream",
     "text": [
      "313/313 [==============================] - 1s 3ms/step - loss: 0.0067 - mean_squared_error: 0.0067\n",
      "loss:  0.006715171039104462\n",
      "mse:  0.006715171039104462\n"
     ]
    }
   ],
   "source": [
    "loss, mse = model2.evaluate(test_images1, test_targets1)\n",
    "print(\"loss: \", loss)\n",
    "print(\"mse: \", mse)"
   ]
  },
  {
   "cell_type": "code",
   "execution_count": 196,
   "metadata": {},
   "outputs": [
    {
     "name": "stdout",
     "output_type": "stream",
     "text": [
      "WARNING:tensorflow:6 out of the last 9 calls to <function Model.make_predict_function.<locals>.predict_function at 0x00000241957A6D40> triggered tf.function retracing. Tracing is expensive and the excessive number of tracings could be due to (1) creating @tf.function repeatedly in a loop, (2) passing tensors with different shapes, (3) passing Python objects instead of tensors. For (1), please define your @tf.function outside of the loop. For (2), @tf.function has reduce_retracing=True option that can avoid unnecessary retracing. For (3), please refer to https://www.tensorflow.org/guide/function#controlling_retracing and https://www.tensorflow.org/api_docs/python/tf/function for  more details.\n",
      "1/1 [==============================] - 0s 167ms/step\n"
     ]
    },
    {
     "name": "stderr",
     "output_type": "stream",
     "text": [
      "Clipping input data to the valid range for imshow with RGB data ([0..1] for floats or [0..255] for integers).\n"
     ]
    },
    {
     "data": {
      "image/png": "[encoded data removed]",
      "text/plain": [
       "<Figure size 640x480 with 2 Axes>"
      ]
     },
     "metadata": {},
     "output_type": "display_data"
    }
   ],
   "source": [
    "visualizeOutput(124, model2, test_images1)"
   ]
  },
  {
   "cell_type": "code",
   "execution_count": null,
   "metadata": {},
   "outputs": [],
   "source": []
  }
 ],
 "metadata": {
  "kernelspec": {
   "display_name": "Python 3",
   "language": "python",
   "name": "python3"
  },
  "language_info": {
   "codemirror_mode": {
    "name": "ipython",
    "version": 3
   },
   "file_extension": ".py",
   "mimetype": "text/x-python",
   "name": "python",
   "nbconvert_exporter": "python",
   "pygments_lexer": "ipython3",
   "version": "3.10.4"
  },
  "orig_nbformat": 4
 },
 "nbformat": 4,
 "nbformat_minor": 2
}
